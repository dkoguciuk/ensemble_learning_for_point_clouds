{
 "cells": [
  {
   "cell_type": "code",
   "execution_count": 6,
   "metadata": {},
   "outputs": [],
   "source": [
    "import matplotlib.pyplot as plt\n",
    "import numpy as np\n",
    "import pandas as pd\n",
    "from io import StringIO"
   ]
  },
  {
   "cell_type": "code",
   "execution_count": 2,
   "metadata": {},
   "outputs": [],
   "source": [
    "times = {'deepsets' : 0.002286,\n",
    "         'pointnet' : 0.045003,\n",
    "         'pointnet++' : 0.086201,\n",
    "         'sonet' : 0.200043,\n",
    "         'kcnet' : 0.065254,\n",
    "         'dgcnn' : 0.299180,\n",
    "         'pointcnn' : 0.100051}\n",
    "\n",
    "params = {'deepsets' : 810536,\n",
    "          'pointnet' : 3480049,\n",
    "          'pointnet++' : 1475688,\n",
    "          'sonet' : 2666985,\n",
    "          'kcnet' : 882368,\n",
    "          'dgcnn' : 1836081,\n",
    "          'pointcnn' : 1198680}\n"
   ]
  },
  {
   "cell_type": "code",
   "execution_count": 13,
   "metadata": {},
   "outputs": [],
   "source": [
    "data = pd.DataFrame(columns=['times', 'params'], index = times.keys())\n",
    "data['times'] = times.values()\n",
    "data['params'] = params.values()"
   ]
  },
  {
   "cell_type": "code",
   "execution_count": 20,
   "metadata": {},
   "outputs": [
    {
     "data": {
      "image/png": "[encoded data removed]",
      "text/plain": [
       "<Figure size 432x288 with 2 Axes>"
      ]
     },
     "metadata": {},
     "output_type": "display_data"
    }
   ],
   "source": [
    "fig = plt.figure() \n",
    "ax = fig.add_subplot(111) # Create matplotlib axes\n",
    "ax2 = ax.twinx() # Create another axes that shares the same x-axis as ax.\n",
    "\n",
    "width = 0.4\n",
    "\n",
    "data.times.plot(kind='bar', color='red', ax=ax, width=width, position=1)\n",
    "data.params.plot(kind='bar', color='blue', ax=ax2, width=width, position=0)\n",
    "\n",
    "ax.set_ylabel('Time [s]')\n",
    "ax2.set_ylabel('Parameters number')\n",
    "\n",
    "plt.xticks(range(len(data)),(data.index), rotation=30)\n",
    "plt.savefig('inference.png')\n",
    "plt.show()"
   ]
  },
  {
   "cell_type": "code",
   "execution_count": null,
   "metadata": {},
   "outputs": [],
   "source": []
  }
 ],
 "metadata": {
  "kernelspec": {
   "display_name": "Python 3",
   "language": "python",
   "name": "python3"
  },
  "language_info": {
   "codemirror_mode": {
    "name": "ipython",
    "version": 3
   },
   "file_extension": ".py",
   "mimetype": "text/x-python",
   "name": "python",
   "nbconvert_exporter": "python",
   "pygments_lexer": "ipython3",
   "version": "3.6.5"
  }
 },
 "nbformat": 4,
 "nbformat_minor": 2
}
