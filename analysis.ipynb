{
 "cells": [
  {
   "cell_type": "markdown",
   "metadata": {},
   "source": [
    "List the approach names below:"
   ]
  },
  {
   "cell_type": "code",
   "execution_count": 2,
   "metadata": {},
   "outputs": [],
   "source": [
    "MODELS = ['pointnet', 'pointnet++', 'so-net']"
   ]
  },
  {
   "cell_type": "markdown",
   "metadata": {},
   "source": [
    "For every model there are 2 files generated in numpy binary format:\n",
    "\n",
    "  **probabilities.npy** - numpy array of size **MODELS COUNT x TEST POINT CLOUDS CLOUD x CLASSES COUNT** with output classification probability for each of 10 individually trained models\n",
    "\n",
    "  **true_labels.npy** - numpy array of size **TEST POINT CLOUDS CLOUD** with true labels data"
   ]
  },
  {
   "cell_type": "code",
   "execution_count": 3,
   "metadata": {},
   "outputs": [],
   "source": [
    "CLASSES_COUNT = 40\n",
    "MODELS_COUNT = 10\n",
    "\n",
    "import os\n",
    "import numpy as np\n",
    "probabilities = {}\n",
    "true_labels = {}\n",
    "for model in MODELS:\n",
    "    prob_filepath = os.path.join(model, 'probabilities.npy')\n",
    "    probabilities[model] = np.load(prob_filepath)\n",
    "    probabilities[model] = np.transpose(probabilities[model], axes=(2, 0, 1))\n",
    "    label_filepath = os.path.join(model, 'true_labels.npy')\n",
    "    true_labels[model] = np.load(label_filepath)"
   ]
  },
  {
   "cell_type": "markdown",
   "metadata": {},
   "source": [
    "Now, we want to know how instance classification accuracy depends on the number of the ensemble of independently train models. We will check two ensembling methods: mean and mode operation and for each number of ensembled models there will be ten different sets taken into consideration and the median value will be shown on the figures below."
   ]
  },
  {
   "cell_type": "code",
   "execution_count": 34,
   "metadata": {},
   "outputs": [],
   "source": [
    "####################################################################################\n",
    "# Constants\n",
    "####################################################################################\n",
    "\n",
    "ENSEMBLE_MODELS_NUMBER = 10\n",
    "\n",
    "import math\n",
    "import statistics\n",
    "from scipy import stats\n",
    "\n",
    "####################################################################################\n",
    "# Get random subsets\n",
    "####################################################################################\n",
    "\n",
    "def get_k_combinations_of_n_elems(n, k, rep):\n",
    "    \"\"\"\n",
    "    Get rep different k-combinations of set of n numbers. If requested reps is greater\n",
    "    than possible combinations number just return all possible combinations. In our case:\n",
    "    n - maximum number of ensembled models\n",
    "    k - actual number of ensembled models\n",
    "    rep - how many different k subsets of n we want to generate.    \n",
    "    \"\"\"\n",
    "    c_n_k = math.factorial(n) / math.factorial(k) / math.factorial(n-k)\n",
    "    combinations_number = min(c_n_k, rep)\n",
    "    \n",
    "    subsets = []   \n",
    "    while len(subsets) != combinations_number:\n",
    "        candidate = np.sort(np.random.choice(n, k, replace=False))\n",
    "        if not np.array([(el == candidate).all() for el in subsets]).any():\n",
    "            subsets.append(candidate)\n",
    "    return np.array(subsets)\n",
    "\n",
    "subsets = {}\n",
    "for num_ens in range(1, ENSEMBLE_MODELS_NUMBER+1):\n",
    "    subset = get_k_combinations_of_n_elems(len(probabilities[model]), num_ens, ENSEMBLE_MODELS_NUMBER)\n",
    "    subsets[num_ens] = subset\n",
    "\n",
    "####################################################################################\n",
    "# Calc acc with mode\n",
    "####################################################################################\n",
    "\n",
    "instance_accuracy_mode = {}\n",
    "for model in MODELS:\n",
    "    instance_accuracy_mode[model] = {}\n",
    "    for num_ens in subsets:\n",
    "        num_ens_accs = []\n",
    "        for subset in subsets[num_ens]:\n",
    "            preds = []\n",
    "            true = true_labels[model]\n",
    "            for model_no in subset:\n",
    "                preds.append(np.argmax(probabilities[model][model_no], axis=-1))\n",
    "            preds = np.transpose(np.array(preds))\n",
    "            preds = np.squeeze(stats.mode(preds, axis=-1)[0])\n",
    "            accy = float(np.sum(preds == true))/len(true)\n",
    "            num_ens_accs.append(accy)\n",
    "        instance_accuracy_mode[model][num_ens] = statistics.median(num_ens_accs)\n",
    "        \n",
    "####################################################################################\n",
    "# Calc acc with mean\n",
    "####################################################################################\n",
    "\n",
    "instance_accuracy_mean = {}\n",
    "for model in MODELS:\n",
    "    instance_accuracy_mean[model] = {}\n",
    "    for num_ens in subsets:\n",
    "        num_ens_accs = []\n",
    "        for subset in subsets[num_ens]:\n",
    "            preds = []\n",
    "            true = true_labels[model]\n",
    "            for model_no in subset:\n",
    "                preds.append(probabilities[model][model_no])\n",
    "            preds = np.transpose(np.array(preds), axes=(1,2,0))\n",
    "            preds = np.argmax(np.mean(preds, axis=-1), axis=-1)\n",
    "            accy = float(np.sum(preds == true))/len(true)\n",
    "            num_ens_accs.append(accy)\n",
    "        instance_accuracy_mean[model][num_ens] = statistics.median(num_ens_accs)"
   ]
  },
  {
   "cell_type": "markdown",
   "metadata": {},
   "source": [
    "Plot instance accuracy for two aggregation methods in the function of ensambled individually trained models."
   ]
  },
  {
   "cell_type": "code",
   "execution_count": 55,
   "metadata": {},
   "outputs": [
    {
     "data": {
      "image/png": "[encoded data removed]",
      "text/plain": [
       "<Figure size 1152x288 with 2 Axes>"
      ]
     },
     "metadata": {},
     "output_type": "display_data"
    }
   ],
   "source": [
    "import matplotlib.pyplot as plt\n",
    "%matplotlib inline\n",
    "\n",
    "def plot_accuracy(ax, instance_accuracy, aggregation_method='mode'):\n",
    "    handles = []\n",
    "    for model in MODELS:\n",
    "        x = instance_accuracy[model].keys()\n",
    "        y = [instance_accuracy[model][i] for i in x]\n",
    "        handle, = ax.plot(x, y, label=model)\n",
    "        handles.append(handle)\n",
    "    ax.set_title('Aggregation method: ' + aggregation_method)\n",
    "    ax.set_xlabel('Number of ensembled models')\n",
    "    ax.set_ylabel('Instance classification accuracy')\n",
    "    ax.legend(handles=handles)\n",
    "\n",
    "f, (ax1, ax2) = plt.subplots(1, 2, sharey=True, figsize=(16, 4))\n",
    "plot_accuracy(ax1, instance_accuracy_mode, 'mode')\n",
    "plot_accuracy(ax2, instance_accuracy_mean, 'mean')"
   ]
  },
  {
   "cell_type": "code",
   "execution_count": null,
   "metadata": {},
   "outputs": [],
   "source": []
  }
 ],
 "metadata": {
  "kernelspec": {
   "display_name": "Python 3",
   "language": "python",
   "name": "python3"
  },
  "language_info": {
   "codemirror_mode": {
    "name": "ipython",
    "version": 3
   },
   "file_extension": ".py",
   "mimetype": "text/x-python",
   "name": "python",
   "nbconvert_exporter": "python",
   "pygments_lexer": "ipython3",
   "version": "3.6.5"
  }
 },
 "nbformat": 4,
 "nbformat_minor": 2
}
