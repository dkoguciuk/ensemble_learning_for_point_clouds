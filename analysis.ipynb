{
 "cells": [
  {
   "cell_type": "markdown",
   "metadata": {},
   "source": [
    "List the approach names below:"
   ]
  },
  {
   "cell_type": "code",
   "execution_count": 2,
   "metadata": {},
   "outputs": [],
   "source": [
    "MODELS = ['pointnet', 'pointnet++']"
   ]
  },
  {
   "cell_type": "markdown",
   "metadata": {},
   "source": [
    "For every model there are 4 files generated in numpy binary format:\n",
    "\n",
    "  **num_votes_accs.npy** - numpy array of size **MODELS COUNT x VOTES COUNT** with classification accuracy for each of 10 individually trained models of one approach (stored in rows) and different number of votes (stored in columns)\n",
    "\n",
    "  **probabilities.npy** - numpy array of size **MODELS COUNT x TEST POINT CLOUDS CLOUD x CLASSES COUNT** with output classification probability for each of 10 individually trained models\n",
    "\n",
    "  **true_labels.npy** - numpy array of size **TEST POINT CLOUDS CLOUD** with true labels data\n",
    "\n",
    "  **accuracies.npy** - numpy array of size **MODELS COUNT** with classification accuracy for each individually trained model of one approach"
   ]
  },
  {
   "cell_type": "code",
   "execution_count": 15,
   "metadata": {},
   "outputs": [],
   "source": [
    "CLASSES_COUNT = 40\n",
    "MODELS_COUNT = 10\n",
    "\n",
    "import os\n",
    "import numpy as np\n",
    "probabilities = {}\n",
    "true_labels = {}\n",
    "for model in MODELS:\n",
    "    prob_filepath = os.path.join(model, 'probabilities.npy')\n",
    "    probabilities[model] = np.load(prob_filepath)\n",
    "    probabilities[model] = np.transpose(probabilities[model], axes=(2, 0, 1))\n",
    "    label_filepath = os.path.join(model, 'true_labels.npy')\n",
    "    true_labels[model] = np.load(label_filepath)"
   ]
  },
  {
   "cell_type": "markdown",
   "metadata": {},
   "source": [
    "Now, we want to know how instance classification accuracy depends on the number of the ensemble of independently train models. We will check two ensembling methods: mean and mode operation and for each number of ensembled models there will be ten different sets taken into consideration and the median value will be shown on the figures below."
   ]
  },
  {
   "cell_type": "code",
   "execution_count": 129,
   "metadata": {},
   "outputs": [],
   "source": [
    "####################################################################################\n",
    "# Constants\n",
    "####################################################################################\n",
    "\n",
    "ENSEMBLE_MODELS_NUMBER = 10\n",
    "\n",
    "import statistics\n",
    "from scipy import stats\n",
    "\n",
    "####################################################################################\n",
    "# Get random subsets\n",
    "####################################################################################\n",
    "\n",
    "def get_random_subsets(models_count, num_ens, num_sets=10):\n",
    "    \"\"\"\n",
    "    Get random num_sets subsets of numbers from 0 to models_count, where each set has num_ens numbers.\n",
    "    \"\"\"\n",
    "    subsets = []   \n",
    "    while len(subsets) != num_sets:\n",
    "        candidate = np.sort(np.random.choice(models_count, num_ens, replace=False))\n",
    "        if not np.array([(el == candidate).all() for el in subsets]).any():\n",
    "            subsets.append(candidate)\n",
    "    return np.array(subsets)\n",
    "\n",
    "subsets = {}\n",
    "for num_ens in range(1, ENSEMBLE_MODELS_NUMBER):\n",
    "    subset = get_random_subsets(len(probabilities[model]), num_ens)\n",
    "    subsets[num_ens] = subset\n",
    "\n",
    "####################################################################################\n",
    "# Calc acc\n",
    "####################################################################################\n",
    "\n",
    "mode_instance_accuracy = {}\n",
    "for model in MODELS:\n",
    "    instance_accuracy[model] = {}\n",
    "    for num_ens in subsets:\n",
    "        num_ens_accs = []\n",
    "        for subset in subsets[num_ens]:\n",
    "            preds = []\n",
    "            true = true_labels[model]\n",
    "            for model_no in subset:\n",
    "                preds.append(np.argmax(probabilities[model][model_no], axis=-1))\n",
    "            preds = np.transpose(np.array(preds))\n",
    "            preds = np.squeeze(stats.mode(preds, axis=-1)[0])\n",
    "            accy = float(np.sum(preds == true))/len(true)\n",
    "            num_ens_accs.append(accy)\n",
    "        instance_accuracy[model][num_ens] = statistics.median(num_ens_accs)"
   ]
  },
  {
   "cell_type": "markdown",
   "metadata": {},
   "source": [
    "Plot instance accuracy in the function of ensambled individually trained models."
   ]
  },
  {
   "cell_type": "code",
   "execution_count": 132,
   "metadata": {},
   "outputs": [
    {
     "data": {
      "image/png": "[encoded data removed]",
      "text/plain": [
       "<Figure size 432x288 with 1 Axes>"
      ]
     },
     "metadata": {},
     "output_type": "display_data"
    }
   ],
   "source": [
    "import matplotlib.pyplot as plt\n",
    "for model in MODELS:\n",
    "    x = instance_accuracy[model].keys()\n",
    "    y = [instance_accuracy[model][i] for i in x]\n",
    "    plt.plot(x, y)\n",
    "plt.show()"
   ]
  },
  {
   "cell_type": "code",
   "execution_count": null,
   "metadata": {},
   "outputs": [],
   "source": [
    "print "
   ]
  }
 ],
 "metadata": {
  "kernelspec": {
   "display_name": "Python 3",
   "language": "python",
   "name": "python3"
  },
  "language_info": {
   "codemirror_mode": {
    "name": "ipython",
    "version": 3
   },
   "file_extension": ".py",
   "mimetype": "text/x-python",
   "name": "python",
   "nbconvert_exporter": "python",
   "pygments_lexer": "ipython3",
   "version": "3.6.5"
  }
 },
 "nbformat": 4,
 "nbformat_minor": 2
}
